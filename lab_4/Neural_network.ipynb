{
 "cells": [
  {
   "attachments": {},
   "cell_type": "markdown",
   "metadata": {},
   "source": [
    "# Assignment 1 \n",
    "Adaline network implementation for AND using Uni polar case"
   ]
  },
  {
   "cell_type": "code",
   "execution_count": 15,
   "metadata": {},
   "outputs": [
    {
     "name": "stdout",
     "output_type": "stream",
     "text": [
      "[1e-323, 2.7755575615628914e-17, 2.7755575615628914e-17, 1.0]\n"
     ]
    }
   ],
   "source": [
    "weight = [0.5,0.5]\n",
    "alpha = 0.2\n",
    "x_in = [[i,j] for i in range(2) for j in range(2)]\n",
    "target = [0,0,0,1]\n",
    "y = [0,0,0,0]\n",
    "bias = [1,1,1,1]\n",
    "\n",
    "for i in range(10000):\n",
    "    for j in range(4):\n",
    "        y[j] = bias[j]+x_in[j][0]*weight[0]+x_in[j][1]*weight[1]\n",
    "        weight[0] = weight[0] + alpha*(target[j]-y[j])*x_in[j][0]\n",
    "        weight[1] = weight[1] + alpha*(target[j]-y[j])*x_in[j][1]\n",
    "        bias[j] = bias[j] + alpha*(target[j]-y[j])\n",
    "\n",
    "output = [bias[j]+weight[0]*x_in[j][0]+weight[1]*x_in[j][1] for j in range(4)]\n",
    "print(output)"
   ]
  },
  {
   "attachments": {},
   "cell_type": "markdown",
   "metadata": {},
   "source": [
    "Checking by varying features"
   ]
  },
  {
   "cell_type": "code",
   "execution_count": 21,
   "metadata": {},
   "outputs": [
    {
     "name": "stdout",
     "output_type": "stream",
     "text": [
      "[0.0, 9.349246523159217e-17, 9.349246523159217e-17, 1.0000000000000004]\n"
     ]
    }
   ],
   "source": [
    "weight = [1,1]\n",
    "alpha = 0.8\n",
    "x_in = [[i,j] for i in range(2) for j in range(2)]\n",
    "target = [0,0,0,1]\n",
    "y = [0,0,0,0]\n",
    "bias = [1,1,1,1]\n",
    "\n",
    "for i in range(1000):\n",
    "    for j in range(4):\n",
    "        y[j] = bias[j]+x_in[j][0]*weight[0]+x_in[j][1]*weight[1]\n",
    "        weight[0] = weight[0] + alpha*(target[j]-y[j])*x_in[j][0]\n",
    "        weight[1] = weight[1] + alpha*(target[j]-y[j])*x_in[j][1]\n",
    "        bias[j] = bias[j] + alpha*(target[j]-y[j])\n",
    "\n",
    "output = [bias[j]+weight[0]*x_in[j][0]+weight[1]*x_in[j][1] for j in range(4)]\n",
    "print(output)"
   ]
  },
  {
   "cell_type": "code",
   "execution_count": 23,
   "metadata": {},
   "outputs": [
    {
     "name": "stdout",
     "output_type": "stream",
     "text": [
      "[0.9900498287989168, 1.0676411248825624, 1.9498199132150345, 2.0373614109316134]\n"
     ]
    }
   ],
   "source": [
    "weight = [1,0.1]\n",
    "alpha = 0.000001\n",
    "x_in = [[i,j] for i in range(2) for j in range(2)]\n",
    "target = [0,0,0,1]\n",
    "y = [0,0,0,0]\n",
    "bias = [1,1,1,1]\n",
    "\n",
    "for i in range(10000):\n",
    "    for j in range(4):\n",
    "        y[j] = bias[j]+x_in[j][0]*weight[0]+x_in[j][1]*weight[1]\n",
    "        weight[0] = weight[0] + alpha*(target[j]-y[j])*x_in[j][0]\n",
    "        weight[1] = weight[1] + alpha*(target[j]-y[j])*x_in[j][1]\n",
    "        bias[j] = bias[j] + alpha*(target[j]-y[j])\n",
    "\n",
    "output = [bias[j]+weight[0]*x_in[j][0]+weight[1]*x_in[j][1] for j in range(4)]\n",
    "print(output)"
   ]
  },
  {
   "attachments": {},
   "cell_type": "markdown",
   "metadata": {},
   "source": [
    "# Assignment 2\n",
    "\n",
    "Or NAND and NOR gate"
   ]
  },
  {
   "cell_type": "code",
   "execution_count": 24,
   "metadata": {},
   "outputs": [
    {
     "name": "stdout",
     "output_type": "stream",
     "text": [
      "[1.0, 1.0, 1.0, -0.0]\n"
     ]
    }
   ],
   "source": [
    "#OR gate\n",
    "weight = [1,1]\n",
    "alpha = 0.8\n",
    "x_in = [[i,j] for i in range(2) for j in range(2)]\n",
    "target = [1,1,1,0]\n",
    "y = [0,0,0,0]\n",
    "bias = [1,1,1,1]\n",
    "\n",
    "for i in range(10000):\n",
    "    for j in range(4):\n",
    "        y[j] = bias[j]+x_in[j][0]*weight[0]+x_in[j][1]*weight[1]\n",
    "        weight[0] = weight[0] + alpha*(target[j]-y[j])*x_in[j][0]\n",
    "        weight[1] = weight[1] + alpha*(target[j]-y[j])*x_in[j][1]\n",
    "        bias[j] = bias[j] + alpha*(target[j]-y[j])\n",
    "\n",
    "output = [round(bias[j]+weight[0]*x_in[j][0]+weight[1]*x_in[j][1],5) for j in range(4)]\n",
    "print(output)"
   ]
  },
  {
   "cell_type": "code",
   "execution_count": 27,
   "metadata": {},
   "outputs": [
    {
     "name": "stdout",
     "output_type": "stream",
     "text": [
      "[0.0, 1.0, 1.0, 1.0]\n"
     ]
    }
   ],
   "source": [
    "# Nand Gate\n",
    "weight = [1,1]\n",
    "alpha = 0.1\n",
    "x_in = [[i,j] for i in range(2) for j in range(2)]\n",
    "target = [0,1,1,1]\n",
    "y = [0,0,0,0]\n",
    "bias = [1,1,1,1]\n",
    "\n",
    "for i in range(10000):\n",
    "    for j in range(4):\n",
    "        y[j] = bias[j]+x_in[j][0]*weight[0]+x_in[j][1]*weight[1]\n",
    "        weight[0] = weight[0] + alpha*(target[j]-y[j])*x_in[j][0]\n",
    "        weight[1] = weight[1] + alpha*(target[j]-y[j])*x_in[j][1]\n",
    "        bias[j] = bias[j] + alpha*(target[j]-y[j])\n",
    "\n",
    "output = [round(bias[j]+weight[0]*x_in[j][0]+weight[1]*x_in[j][1],5) for j in range(4)]\n",
    "print(output)"
   ]
  },
  {
   "cell_type": "code",
   "execution_count": 15,
   "metadata": {},
   "outputs": [
    {
     "name": "stdout",
     "output_type": "stream",
     "text": [
      "[1.0, 0.0, 0.0, -0.0]\n"
     ]
    }
   ],
   "source": [
    "# NOR gate\n",
    "weight = [1,1]\n",
    "alpha = 0.1\n",
    "x_in = [[i,j] for i in range(2) for j in range(2)]\n",
    "target = [1,0,0,0]\n",
    "y = [0,0,0,0]\n",
    "bias = [1,1,1,1]\n",
    "\n",
    "for i in range(10000):\n",
    "    for j in range(4):\n",
    "        y[j] = bias[j]+x_in[j][0]*weight[0]+x_in[j][1]*weight[1]\n",
    "        weight[0] = weight[0] + alpha*(target[j]-y[j])*x_in[j][0]\n",
    "        weight[1] = weight[1] + alpha*(target[j]-y[j])*x_in[j][1]\n",
    "        bias[j] = bias[j] + alpha*(target[j]-y[j])\n",
    "\n",
    "output = [round(bias[j]+weight[0]*x_in[j][0]+weight[1]*x_in[j][1],5) for j in range(4)]\n",
    "print(output)"
   ]
  },
  {
   "attachments": {},
   "cell_type": "markdown",
   "metadata": {},
   "source": [
    "# Assignment 3"
   ]
  },
  {
   "cell_type": "code",
   "execution_count": 14,
   "metadata": {},
   "outputs": [
    {
     "name": "stdout",
     "output_type": "stream",
     "text": [
      "[-1.0, -1.0, -1.0, 1.0]\n"
     ]
    }
   ],
   "source": [
    "# bipolar test\n",
    "weight = [0.5,0.5]\n",
    "alpha = 0.2\n",
    "x_in = [[-1,-1],[-1,1],[1,-1],[1,1]]\n",
    "target = [-1,-1,-1,1]\n",
    "y = [0,0,0,0]\n",
    "bias = [1,1,1,1]\n",
    "\n",
    "for i in range(10000):\n",
    "    for j in range(4):\n",
    "        y[j] = bias[j]+x_in[j][0]*weight[0]+x_in[j][1]*weight[1]\n",
    "        weight[0] = weight[0] + alpha*(target[j]-y[j])*x_in[j][0]\n",
    "        weight[1] = weight[1] + alpha*(target[j]-y[j])*x_in[j][1]\n",
    "        bias[j] = bias[j] + alpha*(target[j]-y[j])\n",
    "\n",
    "output = [round(bias[j]+weight[0]*x_in[j][0]+weight[1]*x_in[j][1],5) for j in range(4)]\n",
    "print(output)"
   ]
  },
  {
   "attachments": {},
   "cell_type": "markdown",
   "metadata": {},
   "source": [
    "# Assignment :\n",
    "## Backpropagation"
   ]
  },
  {
   "cell_type": "code",
   "execution_count": 20,
   "metadata": {},
   "outputs": [
    {
     "name": "stdout",
     "output_type": "stream",
     "text": [
      "[[0.06809705]\n",
      " [0.93388084]\n",
      " [0.93388084]\n",
      " [0.07342422]]\n"
     ]
    }
   ],
   "source": [
    "import numpy as np \n",
    "\n",
    "def sigmoid (x):\n",
    "    return 1/(1 + np.exp(-x))\n",
    "\n",
    "def sigmoid_derivative(x):\n",
    "    return x * (1 - x)\n",
    "\n",
    "inputs = np.array([[0,0],[0,1],[1,0],[1,1]])\n",
    "target = np.array([[0],[1],[1],[0]])\n",
    "\n",
    "alpha = 0.1\n",
    "inputLayerNeurons = 2\n",
    "hiddenLayerNeurons = 2\n",
    "outputLayerNeurons = 1\n",
    "\n",
    "hidden_weights = [[0.5,0.5],[0.5,0.5]]\n",
    "hidden_bias =[0.5,0.5]\n",
    "output_weights = np.random.uniform(size=(2,1))\n",
    "output_bias = np.random.uniform(size=(1,outputLayerNeurons))\n",
    "\n",
    "\n",
    "for _ in range(10000):\n",
    "\n",
    "\thidden_layer_activation = np.dot(inputs,hidden_weights)\n",
    "\thidden_layer_activation += hidden_bias\n",
    "\thidden_layer_output = sigmoid(hidden_layer_activation)\n",
    "\n",
    "\toutput_layer_activation = np.dot(hidden_layer_output,output_weights)\n",
    "\toutput_layer_activation += output_bias\n",
    "\toutput = sigmoid(output_layer_activation)\n",
    "\n",
    "\terror = target - output\n",
    "\td_output = error * sigmoid_derivative(output)\n",
    "\t\n",
    "\terror_hidden_layer = d_output.dot(output_weights.T)\n",
    "\td_hidden_layer = error_hidden_layer * sigmoid_derivative(hidden_layer_output)\n",
    "\n",
    "\toutput_weights += hidden_layer_output.T.dot(d_output) * alpha\n",
    "\toutput_bias += np.sum(d_output,axis=0,keepdims=True) * alpha\n",
    "\thidden_weights += inputs.T.dot(d_hidden_layer) * alpha\n",
    "\thidden_bias += np.sum(d_hidden_layer,axis=0,keepdims=True) * alpha\n",
    "\n",
    "\n",
    "print(output)"
   ]
  },
  {
   "cell_type": "code",
   "execution_count": null,
   "metadata": {},
   "outputs": [],
   "source": []
  }
 ],
 "metadata": {
  "kernelspec": {
   "display_name": "Python 3 (ipykernel)",
   "language": "python",
   "name": "python3"
  },
  "language_info": {
   "codemirror_mode": {
    "name": "ipython",
    "version": 3
   },
   "file_extension": ".py",
   "mimetype": "text/x-python",
   "name": "python",
   "nbconvert_exporter": "python",
   "pygments_lexer": "ipython3",
   "version": "3.8.5"
  },
  "orig_nbformat": 4,
  "vscode": {
   "interpreter": {
    "hash": "916dbcbb3f70747c44a77c7bcd40155683ae19c65e1c03b4aa3499c5328201f1"
   }
  }
 },
 "nbformat": 4,
 "nbformat_minor": 2
}
